{
 "cells": [
  {
   "cell_type": "code",
   "execution_count": 1,
   "id": "54e779d4-6755-4400-b2d3-0c3826c6c620",
   "metadata": {
    "ExecuteTime": {
     "end_time": "2024-03-05T22:02:58.059077253Z",
     "start_time": "2024-03-05T22:02:57.850755474Z"
    },
    "collapsed": false,
    "jupyter": {
     "outputs_hidden": false
    }
   },
   "outputs": [
    {
     "data": {
      "application/vnd.jupyter.widget-view+json": {
       "model_id": "cfa5a3b645f84f3692672b2481b8254f",
       "version_major": 2,
       "version_minor": 0
      },
      "text/plain": [
       "VBox(children=(HBox(children=(IntSlider(value=6, description='dim', max=10, min=1), IntSlider(value=10, descri…"
      ]
     },
     "execution_count": 1,
     "metadata": {},
     "output_type": "execute_result"
    }
   ],
   "source": [
    "import contextlib\n",
    "from itertools import product\n",
    "from multiprocessing import Pool\n",
    "\n",
    "import matplotlib.patheffects as pe\n",
    "import matplotlib.pyplot as plt\n",
    "import numpy as np\n",
    "from ipywidgets import *\n",
    "\n",
    "from experiment import experiment\n",
    "\n",
    "\n",
    "def experiment_wrapper(x_dim: int, nr_records: int, runs: int):\n",
    "    max_abs_diffs = []\n",
    "    for seed in range(1, 1+runs):\n",
    "        # suppress all stdout, stderr or assertion errors (skips to the next iteration)\n",
    "        with contextlib.redirect_stdout(None), contextlib.redirect_stderr(None):\n",
    "            res = experiment(seed, x_dim, nr_records)\n",
    "            max_abs_diffs.append(res)\n",
    "    return sorted(max_abs_diffs)\n",
    "\n",
    "\n",
    "def load_or_calculate(dim_range: range, rec_range: range, runs=10) -> np.ndarray:\n",
    "    assert isinstance(dim_range, range)\n",
    "    assert isinstance(rec_range, range)\n",
    "    filename = f\"results_{runs=}_dim={dim_range.start}-{dim_range.stop}_rec={rec_range.start}-{rec_range.stop}.npy\"\n",
    "    try:\n",
    "        return np.load(filename)\n",
    "    except FileNotFoundError:\n",
    "        with Pool(32) as p:\n",
    "            results = p.starmap(experiment_wrapper, product(dim_range, rec_range, [runs]))  # actually run experiments\n",
    "            results = np.reshape(results, (len(dim_range), len(rec_range), -1))  # reshape to 3D array\n",
    "            results = results.transpose(1, 0, 2)  # swap 0th and 1st axis\n",
    "            np.save(filename, results)\n",
    "            return results\n",
    "\n",
    "\n",
    "def heatmap(results: np.ndarray, dim_lab: range, rec_lab: range, filename=None):\n",
    "    # create 3 sliders for dim_labe, rec_lab and a float-slider from 0 to 1\n",
    "    dim_slider = IntSlider(min=dim_lab.start, max=dim_lab.stop-1, step=1, value=(dim_lab.start + dim_lab.stop) // 2, description='dim')\n",
    "    rec_slider = IntSlider(min=rec_lab.start, max=rec_lab.stop-1, step=1, value=(rec_lab.start + rec_lab.stop) // 2, description='rec')\n",
    "    slice_slider = FloatSlider(min=0.1, max=1, step=0.1, value=0.5, description='slice')\n",
    "    \n",
    "    # range iterate can be exhausted at this point -> convert to list\n",
    "    x_ticks = list(range(dim_lab.start, dim_lab.stop))\n",
    "    y_ticks = list(range(rec_lab.start, rec_lab.stop))\n",
    "\n",
    "    def update_heatmap(dim: int, rec: int, slice: float):\n",
    "        # convert from absolute slider values to relative array indices\n",
    "        rec -= rec_range.start\n",
    "        dim -= dim_range.start\n",
    "        \n",
    "        # use matplotlib with 2 subplots to create a heatmap and a line plot\n",
    "        plt.figure(figsize=(10, 5))\n",
    "        plt.subplot(1, 2, 1)\n",
    "        res = (results < slice).mean(axis=2)\n",
    "        plt.imshow(res, cmap='hot', interpolation='nearest')\n",
    "        # put numbers on the grid\n",
    "        for i, j in np.ndindex(res.shape): # with outline\n",
    "            plt.text(j, i, f\"{res[i, j]*100:.0f}\", ha='center', va='center', color='white', path_effects=[pe.withStroke(linewidth=2, foreground='black')])\n",
    "        # draw a rectangle around the selected cell (dim, rec)\n",
    "        plt.plot([dim-0.5, dim-0.5, dim+0.5, dim+0.5, dim-0.5], [rec-0.5, rec+0.5, rec+0.5, rec-0.5, rec-0.5], 'b-')\n",
    "        plt.xticks(ticks=range(len(x_ticks)), labels=x_ticks)\n",
    "        plt.yticks(ticks=range(len(y_ticks)), labels=y_ticks)\n",
    "        plt.xlabel('dim')\n",
    "        plt.ylabel('rec')\n",
    "        plt.title(f\"max_abs_diff < {slice:.2f}\")\n",
    "        plt.colorbar()\n",
    "    \n",
    "        plt.subplot(1, 2, 2)\n",
    "        plt.plot(results[rec, dim, :])\n",
    "        plt.xlabel('run')\n",
    "        plt.ylabel('max_abs_diff')\n",
    "        # draw a horizontal line at the selected slice\n",
    "        plt.axhline(slice, color='r', linestyle='--')\n",
    "\n",
    "    # layout: 3 sliders on top, 2 plots below\n",
    "    return VBox([HBox([dim_slider, rec_slider, slice_slider]),\n",
    "                 interactive_output(update_heatmap, dict(dim=dim_slider, rec=rec_slider, slice=slice_slider))])\n",
    "\n",
    "# load from \"results.npy\" if it exists\n",
    "dim_range = range(1, 11)\n",
    "rec_range = range(5, 16)\n",
    "results = load_or_calculate(dim_range, rec_range, runs=100)\n",
    "heatmap(results, dim_range, rec_range)  # 'heatmap_results.html'"
   ]
  }
 ],
 "metadata": {
  "kernelspec": {
   "display_name": "Python 3 (ipykernel)",
   "language": "python",
   "name": "python3"
  },
  "language_info": {
   "codemirror_mode": {
    "name": "ipython",
    "version": 3
   },
   "file_extension": ".py",
   "mimetype": "text/x-python",
   "name": "python",
   "nbconvert_exporter": "python",
   "pygments_lexer": "ipython3",
   "version": "3.11.7"
  }
 },
 "nbformat": 4,
 "nbformat_minor": 5
}
